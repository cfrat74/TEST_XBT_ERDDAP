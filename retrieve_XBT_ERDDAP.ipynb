{
 "cells": [
  {
   "cell_type": "markdown",
   "id": "0f5b52e9-796e-4ca6-9bf2-20638680f98b",
   "metadata": {},
   "source": [
    "<div>\n",
    "<left>\n",
    "    <img align=\"left\" src=\"https://upload.wikimedia.org/wikipedia/commons/0/07/Logo_INGV_dal_2018.png\" width=\"100\" width=\"100\"/>\n",
    "</left>\n",
    "</div>    \n",
    "\n",
    "\n",
    "<div>\n",
    "<right>\n",
    "    <img align=\"right\" src=\"./Logo_MACMAP.png\" width=\"100\" width=\"100\"/>\n",
    "</right>\n",
    "</div>\n",
    "\n",
    "<h1><center>QUERYING and RETRIVING XBT DATA FROM ERDDAP</center></h1>"
   ]
  },
  {
   "cell_type": "markdown",
   "id": "8492ba47-d1c3-42c3-b9e8-53f937601f11",
   "metadata": {},
   "source": [
    "\n",
    "\n"
   ]
  },
  {
   "cell_type": "markdown",
   "id": "4ae97b74-32a9-432a-80a7-6e16b1b1bbd2",
   "metadata": {},
   "source": [
    "*Authors*: Claudia Fratianni (claudia.fratianni@ingv.it), Paolo Frizzera (paolo.frizzera@ingv.it), Simona Simoncelli (simona.simoncelli@ingv.it)\n",
    "***\n",
    "# Description\n",
    "The objective of this notebook is to allow querying and retrieving __Reprocessed XBT dataset (V2) in the Ligurian and Thyrrhenian Seas (1999-2019)__ by using __Erddapy__ package, that takes advantage of ERDDAP’s RESTful web services and creates the ERDDAP URL for any request, like searching for datasets, acquiring metadata, downloading the data, etc. \n",
    "\n",
    "\n",
    "\n",
    "***\n",
    " \n",
    "This notebook has been developed within the framework of the Multidisciplinary Analysis of Climate change indicators in the Mediterranean And Polar regions (__MACMAP__) project funded by Istituto Nazionale di Geofisica e Vulcanologia (Environment Department)."
   ]
  },
  {
   "cell_type": "markdown",
   "id": "bf924ab7-2c4f-4d2d-9059-b4857e2ccbdf",
   "metadata": {},
   "source": [
    "# QUICK introduction "
   ]
  },
  {
   "cell_type": "markdown",
   "id": "2014b798-e81c-4ab2-b190-070aa96ad12b",
   "metadata": {},
   "source": [
    "__Erddapy__ package can be installed with  <span style='color: #e74c3c; font-family: monospace; background-color: #F7F2F4;font-size:12pt;'>pip</span>\n",
    "\n",
    "pip install erddapy"
   ]
  },
  {
   "cell_type": "markdown",
   "id": "85ae1bdb-fe69-4ba3-a23c-5662ca7b326f",
   "metadata": {},
   "source": [
    "# QUERYING ERDDAP servers from PYTHON"
   ]
  },
  {
   "cell_type": "code",
   "execution_count": 1,
   "id": "6ca9af3c-49b9-4400-8340-c2f14c2a388e",
   "metadata": {},
   "outputs": [],
   "source": [
    "import urllib.request\n",
    "import json\n",
    "import pandas as pd\n",
    "import requests\n",
    "import numpy as np\n",
    "import xarray as xr\n",
    "\n",
    "from netCDF4 import Dataset\n",
    "from erddapy import ERDDAP"
   ]
  },
  {
   "cell_type": "markdown",
   "id": "9570d498-6b68-4c35-aba0-ad8803aa602d",
   "metadata": {},
   "source": [
    "#### 1. Initiate the ERDDAP URL constructor for a server ( erddapy server object)"
   ]
  },
  {
   "cell_type": "code",
   "execution_count": 2,
   "id": "57a40d19-e1ca-4640-a406-6ef191b7b993",
   "metadata": {},
   "outputs": [],
   "source": [
    "e=ERDDAP(\n",
    "  server=\"http://oceano.bo.ingv.it/erddap\",\n",
    "  protocol=\"tabledap\"\n",
    ")"
   ]
  },
  {
   "cell_type": "markdown",
   "id": "78af9054-7488-4129-bb90-8975fa91dd13",
   "metadata": {},
   "source": [
    "#### 2. Populate the object with a dataset id and its constraints. "
   ]
  },
  {
   "cell_type": "code",
   "execution_count": 3,
   "id": "6f241224-4b82-4fb4-b2f4-a68ad767af2d",
   "metadata": {},
   "outputs": [],
   "source": [
    "dataset_id = \"REP_XBT_1999_2019_v2\"\n",
    "e.dataset_id = dataset_id\n",
    "e.constraints = {\"time<=\": \"1999-09-21\"} #! This is only an example you can add more constraints "
   ]
  },
  {
   "cell_type": "markdown",
   "id": "d09ef8a2-2002-49ec-834b-ba514634daec",
   "metadata": {},
   "source": [
    "#### 3. Generate the download url, choosing the fileType which meets your needs and is easiest to use"
   ]
  },
  {
   "cell_type": "code",
   "execution_count": 4,
   "id": "2551d15f-153d-4b73-a3a7-392717e9ba36",
   "metadata": {},
   "outputs": [],
   "source": [
    "format=\"mat\"\n",
    "du=e.get_download_url(response=format)\n",
    "print(du)"
   ]
  },
  {
   "cell_type": "markdown",
   "id": "2fc1c0d5-f7d8-4fe0-adcc-ed12d7f6d263",
   "metadata": {},
   "source": [
    "#### 4. Download interested dataset"
   ]
  },
  {
   "cell_type": "code",
   "execution_count": 5,
   "id": "a6e684cc-6052-450c-aaad-51ab8c4adbe9",
   "metadata": {},
   "outputs": [],
   "source": [
    "#response=requests.get(url)\n",
    "#with open(\"REP_XBT_1999_2019_v2.\"+format, \"wb\") as fout:\n",
    "#    fout.write(response.content)"
   ]
  },
  {
   "cell_type": "markdown",
   "id": "1ad86f30-1c83-444c-8664-411c262055da",
   "metadata": {},
   "source": [
    "#### 5. Download data into Python"
   ]
  },
  {
   "cell_type": "markdown",
   "id": "f936b038-4558-4de8-bfc8-1a83a016a1ad",
   "metadata": {},
   "source": [
    "It is also possible to load the query response directly into Python, both using to_pandas and to_xarray erddapy methods in order to retrive data and associated metadata. "
   ]
  },
  {
   "cell_type": "code",
   "execution_count": 6,
   "id": "97708e7a-189f-43da-8ccd-ad28684630d4",
   "metadata": {},
   "outputs": [],
   "source": [
    "dp = e.to_pandas()"
   ]
  },
  {
   "cell_type": "code",
   "execution_count": 7,
   "id": "e362228b-4e7b-4861-9fab-4e2da13fa750",
   "metadata": {},
   "outputs": [
    {
     "data": {
      "text/html": [
       "<div>\n",
       "<style scoped>\n",
       "    .dataframe tbody tr th:only-of-type {\n",
       "        vertical-align: middle;\n",
       "    }\n",
       "\n",
       "    .dataframe tbody tr th {\n",
       "        vertical-align: top;\n",
       "    }\n",
       "\n",
       "    .dataframe thead th {\n",
       "        text-align: right;\n",
       "    }\n",
       "</style>\n",
       "<table border=\"1\" class=\"dataframe\">\n",
       "  <thead>\n",
       "    <tr style=\"text-align: right;\">\n",
       "      <th></th>\n",
       "      <th>CALIB (degree_C)</th>\n",
       "      <th>depth (m)</th>\n",
       "      <th>DEPTH_COR (meters)</th>\n",
       "      <th>DEPTH_COR_FLAGS_QC</th>\n",
       "      <th>DEPTH_COR_INT (meters)</th>\n",
       "      <th>DEPTH_COR_INT_SEADATANET_QC</th>\n",
       "      <th>DEPTH_FLAGS_QC</th>\n",
       "      <th>DEPTH_INT (meters)</th>\n",
       "      <th>DEPTH_INT_SEADATANET_QC</th>\n",
       "      <th>DEPTH_TEST_QC</th>\n",
       "      <th>...</th>\n",
       "      <th>TEMPET01_COR_INT_SEADATANET_QC</th>\n",
       "      <th>TEMPET01_FLAGS_QC</th>\n",
       "      <th>TEMPET01_INT (degree_C)</th>\n",
       "      <th>TEMPET01_INT_SEADATANET_QC</th>\n",
       "      <th>TEMPET01_TEST_QC</th>\n",
       "      <th>time (UTC)</th>\n",
       "      <th>TIME_SEADATANET_QC</th>\n",
       "      <th>cruise_id</th>\n",
       "      <th>profile_id</th>\n",
       "      <th>url_metadata</th>\n",
       "    </tr>\n",
       "  </thead>\n",
       "  <tbody>\n",
       "    <tr>\n",
       "      <th>0</th>\n",
       "      <td>NaN</td>\n",
       "      <td>0.00</td>\n",
       "      <td>0.254125</td>\n",
       "      <td>1.0</td>\n",
       "      <td>1.0</td>\n",
       "      <td>1.0</td>\n",
       "      <td>1</td>\n",
       "      <td>1.0</td>\n",
       "      <td>1.0</td>\n",
       "      <td>1.0</td>\n",
       "      <td>...</td>\n",
       "      <td>1.0</td>\n",
       "      <td>2</td>\n",
       "      <td>23.826</td>\n",
       "      <td>1.0</td>\n",
       "      <td>49</td>\n",
       "      <td>1999-09-20T19:54:55Z</td>\n",
       "      <td>1</td>\n",
       "      <td>MFSPP_990920</td>\n",
       "      <td>MFSPP_990920_001</td>\n",
       "      <td>http://erddap-dev.bo.ingv.it/erddap/tabledap/T...</td>\n",
       "    </tr>\n",
       "    <tr>\n",
       "      <th>1</th>\n",
       "      <td>NaN</td>\n",
       "      <td>0.67</td>\n",
       "      <td>0.931556</td>\n",
       "      <td>1.0</td>\n",
       "      <td>2.0</td>\n",
       "      <td>1.0</td>\n",
       "      <td>1</td>\n",
       "      <td>2.0</td>\n",
       "      <td>1.0</td>\n",
       "      <td>1.0</td>\n",
       "      <td>...</td>\n",
       "      <td>1.0</td>\n",
       "      <td>2</td>\n",
       "      <td>23.850</td>\n",
       "      <td>1.0</td>\n",
       "      <td>49</td>\n",
       "      <td>1999-09-20T19:54:55Z</td>\n",
       "      <td>1</td>\n",
       "      <td>MFSPP_990920</td>\n",
       "      <td>MFSPP_990920_001</td>\n",
       "      <td>http://erddap-dev.bo.ingv.it/erddap/tabledap/T...</td>\n",
       "    </tr>\n",
       "    <tr>\n",
       "      <th>2</th>\n",
       "      <td>NaN</td>\n",
       "      <td>1.34</td>\n",
       "      <td>1.619221</td>\n",
       "      <td>1.0</td>\n",
       "      <td>3.0</td>\n",
       "      <td>1.0</td>\n",
       "      <td>1</td>\n",
       "      <td>3.0</td>\n",
       "      <td>1.0</td>\n",
       "      <td>1.0</td>\n",
       "      <td>...</td>\n",
       "      <td>1.0</td>\n",
       "      <td>1</td>\n",
       "      <td>23.848</td>\n",
       "      <td>1.0</td>\n",
       "      <td>49</td>\n",
       "      <td>1999-09-20T19:54:55Z</td>\n",
       "      <td>1</td>\n",
       "      <td>MFSPP_990920</td>\n",
       "      <td>MFSPP_990920_001</td>\n",
       "      <td>http://erddap-dev.bo.ingv.it/erddap/tabledap/T...</td>\n",
       "    </tr>\n",
       "    <tr>\n",
       "      <th>3</th>\n",
       "      <td>NaN</td>\n",
       "      <td>2.00</td>\n",
       "      <td>2.306852</td>\n",
       "      <td>1.0</td>\n",
       "      <td>4.0</td>\n",
       "      <td>1.0</td>\n",
       "      <td>1</td>\n",
       "      <td>4.0</td>\n",
       "      <td>1.0</td>\n",
       "      <td>1.0</td>\n",
       "      <td>...</td>\n",
       "      <td>1.0</td>\n",
       "      <td>1</td>\n",
       "      <td>23.869</td>\n",
       "      <td>1.0</td>\n",
       "      <td>49</td>\n",
       "      <td>1999-09-20T19:54:55Z</td>\n",
       "      <td>1</td>\n",
       "      <td>MFSPP_990920</td>\n",
       "      <td>MFSPP_990920_001</td>\n",
       "      <td>http://erddap-dev.bo.ingv.it/erddap/tabledap/T...</td>\n",
       "    </tr>\n",
       "    <tr>\n",
       "      <th>4</th>\n",
       "      <td>NaN</td>\n",
       "      <td>2.68</td>\n",
       "      <td>2.994453</td>\n",
       "      <td>1.0</td>\n",
       "      <td>5.0</td>\n",
       "      <td>1.0</td>\n",
       "      <td>1</td>\n",
       "      <td>5.0</td>\n",
       "      <td>1.0</td>\n",
       "      <td>1.0</td>\n",
       "      <td>...</td>\n",
       "      <td>1.0</td>\n",
       "      <td>1</td>\n",
       "      <td>23.853</td>\n",
       "      <td>1.0</td>\n",
       "      <td>49</td>\n",
       "      <td>1999-09-20T19:54:55Z</td>\n",
       "      <td>1</td>\n",
       "      <td>MFSPP_990920</td>\n",
       "      <td>MFSPP_990920_001</td>\n",
       "      <td>http://erddap-dev.bo.ingv.it/erddap/tabledap/T...</td>\n",
       "    </tr>\n",
       "  </tbody>\n",
       "</table>\n",
       "<p>5 rows × 30 columns</p>\n",
       "</div>"
      ],
      "text/plain": [
       "   CALIB (degree_C)  depth (m)  DEPTH_COR (meters)  DEPTH_COR_FLAGS_QC  \\\n",
       "0               NaN       0.00            0.254125                 1.0   \n",
       "1               NaN       0.67            0.931556                 1.0   \n",
       "2               NaN       1.34            1.619221                 1.0   \n",
       "3               NaN       2.00            2.306852                 1.0   \n",
       "4               NaN       2.68            2.994453                 1.0   \n",
       "\n",
       "   DEPTH_COR_INT (meters)  DEPTH_COR_INT_SEADATANET_QC  DEPTH_FLAGS_QC  \\\n",
       "0                     1.0                          1.0               1   \n",
       "1                     2.0                          1.0               1   \n",
       "2                     3.0                          1.0               1   \n",
       "3                     4.0                          1.0               1   \n",
       "4                     5.0                          1.0               1   \n",
       "\n",
       "   DEPTH_INT (meters)  DEPTH_INT_SEADATANET_QC  DEPTH_TEST_QC  ...  \\\n",
       "0                 1.0                      1.0            1.0  ...   \n",
       "1                 2.0                      1.0            1.0  ...   \n",
       "2                 3.0                      1.0            1.0  ...   \n",
       "3                 4.0                      1.0            1.0  ...   \n",
       "4                 5.0                      1.0            1.0  ...   \n",
       "\n",
       "   TEMPET01_COR_INT_SEADATANET_QC  TEMPET01_FLAGS_QC  TEMPET01_INT (degree_C)  \\\n",
       "0                             1.0                  2                   23.826   \n",
       "1                             1.0                  2                   23.850   \n",
       "2                             1.0                  1                   23.848   \n",
       "3                             1.0                  1                   23.869   \n",
       "4                             1.0                  1                   23.853   \n",
       "\n",
       "   TEMPET01_INT_SEADATANET_QC TEMPET01_TEST_QC            time (UTC)  \\\n",
       "0                         1.0               49  1999-09-20T19:54:55Z   \n",
       "1                         1.0               49  1999-09-20T19:54:55Z   \n",
       "2                         1.0               49  1999-09-20T19:54:55Z   \n",
       "3                         1.0               49  1999-09-20T19:54:55Z   \n",
       "4                         1.0               49  1999-09-20T19:54:55Z   \n",
       "\n",
       "   TIME_SEADATANET_QC     cruise_id        profile_id  \\\n",
       "0                   1  MFSPP_990920  MFSPP_990920_001   \n",
       "1                   1  MFSPP_990920  MFSPP_990920_001   \n",
       "2                   1  MFSPP_990920  MFSPP_990920_001   \n",
       "3                   1  MFSPP_990920  MFSPP_990920_001   \n",
       "4                   1  MFSPP_990920  MFSPP_990920_001   \n",
       "\n",
       "                                        url_metadata  \n",
       "0  http://erddap-dev.bo.ingv.it/erddap/tabledap/T...  \n",
       "1  http://erddap-dev.bo.ingv.it/erddap/tabledap/T...  \n",
       "2  http://erddap-dev.bo.ingv.it/erddap/tabledap/T...  \n",
       "3  http://erddap-dev.bo.ingv.it/erddap/tabledap/T...  \n",
       "4  http://erddap-dev.bo.ingv.it/erddap/tabledap/T...  \n",
       "\n",
       "[5 rows x 30 columns]"
      ]
     },
     "execution_count": 7,
     "metadata": {},
     "output_type": "execute_result"
    }
   ],
   "source": [
    "# print the dataframe to check what data is in there specifically.\n",
    "dp.head()"
   ]
  },
  {
   "cell_type": "code",
   "execution_count": 8,
   "id": "faa6a01a-11f4-40a5-8b3a-966ab47a255d",
   "metadata": {},
   "outputs": [],
   "source": [
    "dr = e.to_xarray()"
   ]
  },
  {
   "cell_type": "markdown",
   "id": "153bb83e-7025-473b-a604-081bdbfdb4ba",
   "metadata": {},
   "source": [
    "#### 6. Retrieve single profile with corresponding detailed metadata information"
   ]
  },
  {
   "cell_type": "markdown",
   "id": "ded59eeb-7dcd-47c2-8a9d-35d14aedcb7b",
   "metadata": {},
   "source": [
    "Details metadata of each profile can be retrieve throught __profile_id__ and __url_metadata__ variables. "
   ]
  },
  {
   "cell_type": "code",
   "execution_count": 9,
   "id": "f508cfbb-c275-49b8-9c0e-18799ade5416",
   "metadata": {},
   "outputs": [
    {
     "name": "stdout",
     "output_type": "stream",
     "text": [
      "['MFSPP_990920_001' 'MFSPP_990920_002' 'MFSPP_990920_003'\n",
      " 'MFSPP_990920_004' 'MFSPP_990920_005' 'MFSPP_990920_006'\n",
      " 'MFSPP_990920_007']\n"
     ]
    }
   ],
   "source": [
    "profile=np.unique((dp['profile_id'].values))\n",
    "print(profile)\n",
    "\n",
    "url=np.unique((dp['url_metadata'].values))"
   ]
  },
  {
   "cell_type": "code",
   "execution_count": 10,
   "id": "094cfd63-5734-4cb0-8e58-17e935e203e7",
   "metadata": {},
   "outputs": [
    {
     "name": "stdout",
     "output_type": "stream",
     "text": [
      "#####  METADATA ASSOCIATED TO PROFILE MFSPP_990920_001\n",
      "#####  METADATA ASSOCIATED TO PROFILE MFSPP_990920_002\n",
      "#####  METADATA ASSOCIATED TO PROFILE MFSPP_990920_003\n",
      "#####  METADATA ASSOCIATED TO PROFILE MFSPP_990920_004\n",
      "#####  METADATA ASSOCIATED TO PROFILE MFSPP_990920_005\n",
      "#####  METADATA ASSOCIATED TO PROFILE MFSPP_990920_006\n",
      "#####  METADATA ASSOCIATED TO PROFILE MFSPP_990920_007\n"
     ]
    }
   ],
   "source": [
    "for p in profile:\n",
    " ddp=(dp[dp['profile_id']==p]['depth (m)'].values)\n",
    " diffs=np.diff(ddp)<0\n",
    " indexes = np.where(diffs)[0]+1\n",
    "\n",
    "# MERGE DATA AND VARIABLE METADATA\n",
    " for pp in range(len(list(dp[dp['profile_id']==p]))):\n",
    "  varname_orig=(list((dp))[pp].split()[0])\n",
    "  varname=list(dp)[pp]\n",
    "  if (varname_orig) in dr.data_vars:\n",
    "    prof_size=(np.size(dp[dp['profile_id']==p][varname]))\n",
    "    var_val=dp[dp['profile_id']==p][varname].values\n",
    "    den=(len(indexes)+1)\n",
    "    num1=(np.size(ddp))\n",
    "    nn1=(int(num1/den))\n",
    "    if (varname_orig) in [\"TEMPET01_TEST_QC\",\"DEPTH_TEST_QC\"]:\n",
    "     var_res=(var_val.reshape(den,nn1))\n",
    "     ds=xr.DataArray(var_res,dims=['TST_T','MAXZ'],coords={'TST_T': np.arange(0,den),'MAXZ': np.arange(0,nn1)},name=varname_orig,attrs=dr.data_vars[varname_orig].attrs)\n",
    "     ds.to_netcdf(p+'.nc','r+')\n",
    "     ds.close()\n",
    "    else:\n",
    "     var_res=(var_val[0:nn1])\n",
    "     ds=xr.DataArray(var_res,dims=['MAXZ'],coords={'MAXZ': np.arange(0,nn1)},name=varname_orig,attrs=dr.data_vars[varname_orig].attrs)\n",
    "     ds.to_netcdf(p+'.nc','r+')\n",
    "     ds.close()\n",
    "  else:\n",
    "    if varname_orig in \"longitude\" or varname_orig in \"latitude\" or varname_orig in \"time\":\n",
    "     var_val=dp[dp['profile_id']==p][varname].values[0]\n",
    "     ds=xr.DataArray(var_val,dims=['INSTANCE'],coords={'INSTANCE': np.arange(0,1)},name=varname_orig, attrs=dr[varname_orig].attrs)\n",
    "     ds.to_netcdf(p+'.nc','r+')\n",
    "     ds.close()\n",
    "        \n",
    " index=[idx for idx, s in enumerate(url) if p in s][0]\n",
    " new_url=url[index].replace('htmlTable','json')\n",
    " response=urllib.request.urlopen(new_url)\n",
    " string=response.read()\n",
    " json_obj = json.loads(string)\n",
    " element=(json_obj['table'].get('columnNames'))\n",
    " element_values=(json_obj['table'].get('rows')[0])\n",
    " infor=pd.DataFrame({'Elements':element,'Values':element_values})\n",
    " ncid=Dataset(p+'.nc','r+')\n",
    " for gl in range(len(element)):\n",
    "  gl_at='ncid.'+element[gl]+' =\"'+str(element_values[gl])+'\"'\n",
    "  exec(gl_at)\n",
    " ncid.close()\n",
    " print('#####  METADATA ASSOCIATED TO PROFILE '+p)"
   ]
  },
  {
   "cell_type": "code",
   "execution_count": null,
   "id": "4e9fa62a-a3eb-46cb-b36a-23130290684f",
   "metadata": {},
   "outputs": [],
   "source": [
    "\n",
    " "
   ]
  },
  {
   "cell_type": "code",
   "execution_count": null,
   "id": "79898ffd-3ada-48ad-ac18-a60f6299a075",
   "metadata": {},
   "outputs": [],
   "source": []
  }
 ],
 "metadata": {
  "kernelspec": {
   "display_name": "Python 3 (ipykernel)",
   "language": "python",
   "name": "python3"
  },
  "language_info": {
   "codemirror_mode": {
    "name": "ipython",
    "version": 3
   },
   "file_extension": ".py",
   "mimetype": "text/x-python",
   "name": "python",
   "nbconvert_exporter": "python",
   "pygments_lexer": "ipython3",
   "version": "3.10.10"
  }
 },
 "nbformat": 4,
 "nbformat_minor": 5
}
